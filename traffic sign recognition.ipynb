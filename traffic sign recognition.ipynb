{
 "cells": [
  {
   "cell_type": "markdown",
   "metadata": {},
   "source": [
    "# unzipping folder of dataset"
   ]
  },
  {
   "cell_type": "code",
   "execution_count": 1,
   "metadata": {},
   "outputs": [],
   "source": [
    "import zipfile as zf\n",
    "files = zf.ZipFile(\"data.zip\",'r')\n",
    "files.extractall('directory to extract')\n",
    "files.close()"
   ]
  },
  {
   "cell_type": "markdown",
   "metadata": {},
   "source": [
    "# Importing the Keras libraries and packages"
   ]
  },
  {
   "cell_type": "code",
   "execution_count": 2,
   "metadata": {},
   "outputs": [
    {
     "name": "stderr",
     "output_type": "stream",
     "text": [
      "Using TensorFlow backend.\n"
     ]
    }
   ],
   "source": [
    "import os\n",
    "import numpy as np\n",
    "import pandas as pd\n",
    "import matplotlib.pyplot as plt\n",
    "from PIL import Image\n",
    "import tensorflow as tf\n",
    "from sklearn.model_selection import train_test_split\n",
    "from keras.utils import to_categorical\n",
    "from keras.models import Sequential\n",
    "from keras.layers import Conv2D\n",
    "from keras.layers import MaxPool2D\n",
    "from keras.layers import Dense\n",
    "from keras.layers import Flatten \n",
    "from keras.layers import Dropout"
   ]
  },
  {
   "cell_type": "markdown",
   "metadata": {},
   "source": [
    "# Data Loading"
   ]
  },
  {
   "cell_type": "code",
   "execution_count": 3,
   "metadata": {},
   "outputs": [],
   "source": [
    "Images = []\n",
    "Labels= []\n",
    "total_class = 43\n",
    "cur_directory = os.path.join('c:\\\\Users\\\\dell\\\\Desktop\\\\tsr\\\\directory to extract\\\\Dataset')"
   ]
  },
  {
   "cell_type": "markdown",
   "metadata": {},
   "source": [
    "# iterating on all the images of the index folder"
   ]
  },
  {
   "cell_type": "code",
   "execution_count": 4,
   "metadata": {},
   "outputs": [
    {
     "name": "stdout",
     "output_type": "stream",
     "text": [
      "(39269, 64, 64, 3) (39269,)\n"
     ]
    }
   ],
   "source": [
    "for index in range(total_class):\n",
    "  path = os.path.join(cur_directory,'train',str(index))\n",
    "  images = os.listdir(path)\n",
    "#iterating on all the images of the index folder\n",
    "  for img in images:\n",
    "    try:\n",
    "      image = Image.open(path + '\\\\'+ img)\n",
    "      image = image.resize((64,64))\n",
    "      image = np.array(image)\n",
    "      Images.append(image)\n",
    "      Labels.append(index)\n",
    "    except:\n",
    "        print(\"Error loading image\")\n",
    "Images = np.array(Images)\n",
    "Labels = np.array(Labels)\n",
    "print(Images.shape, Labels.shape)"
   ]
  },
  {
   "cell_type": "markdown",
   "metadata": {},
   "source": [
    "# splitting data"
   ]
  },
  {
   "cell_type": "code",
   "execution_count": 5,
   "metadata": {},
   "outputs": [
    {
     "name": "stdout",
     "output_type": "stream",
     "text": [
      "Shape of x_train:  (31415, 64, 64, 3)  and y_train: (31415,)\n",
      "Shape of x_test:  (7854, 64, 64, 3)  and y_test: (7854,)\n"
     ]
    }
   ],
   "source": [
    "x_train, x_test, y_train, y_test = train_test_split(Images, Labels, test_size=0.2, random_state=42)\n",
    "print(\"Shape of x_train: \", x_train.shape, \" and y_train:\",y_train.shape)\n",
    "print(\"Shape of x_test: \", x_test.shape, \" and y_test:\",y_test.shape)\n",
    "\n"
   ]
  },
  {
   "cell_type": "code",
   "execution_count": 6,
   "metadata": {},
   "outputs": [],
   "source": [
    "y_train = to_categorical(y_train, 43)\n",
    "y_test = to_categorical(y_test, 43)"
   ]
  },
  {
   "cell_type": "markdown",
   "metadata": {},
   "source": [
    "# model creation"
   ]
  },
  {
   "cell_type": "code",
   "execution_count": 7,
   "metadata": {},
   "outputs": [],
   "source": [
    "# Initialising the CNN\n",
    "model = Sequential()\n",
    "\n"
   ]
  },
  {
   "cell_type": "code",
   "execution_count": 8,
   "metadata": {},
   "outputs": [],
   "source": [
    "# Step 1 - Convolution\n",
    "model.add(Conv2D(filters=32, kernel_size=(5,5), activation='relu', input_shape=x_train.shape[1:]))\n",
    "model.add(Conv2D(filters=32, kernel_size=(5,5), activation='relu'))\n",
    "\n"
   ]
  },
  {
   "cell_type": "code",
   "execution_count": 9,
   "metadata": {},
   "outputs": [],
   "source": [
    "# Step 2 - Pooling\n",
    "model.add(MaxPool2D(pool_size=(2, 2)))"
   ]
  },
  {
   "cell_type": "code",
   "execution_count": 10,
   "metadata": {},
   "outputs": [],
   "source": [
    "# Step 3 - Dropout\n",
    "model.add(Dropout(rate=0.25))\n"
   ]
  },
  {
   "cell_type": "code",
   "execution_count": 11,
   "metadata": {},
   "outputs": [],
   "source": [
    "# Step 1 & 2 with more hidden layers\n",
    "model.add(Conv2D(filters=64, kernel_size=(3, 3), activation='relu'))\n",
    "model.add(Conv2D(filters=64, kernel_size=(3, 3), activation='relu'))\n",
    "model.add(MaxPool2D(pool_size=(2, 2)))\n",
    "model.add(Dropout(rate=0.25))\n"
   ]
  },
  {
   "cell_type": "code",
   "execution_count": 12,
   "metadata": {},
   "outputs": [],
   "source": [
    "# Step 4 - Flattening\n",
    "model.add(Flatten())"
   ]
  },
  {
   "cell_type": "code",
   "execution_count": 13,
   "metadata": {},
   "outputs": [],
   "source": [
    "# Step 5 - Full connection\n",
    "model.add(Dense(256, activation='relu'))\n",
    "model.add(Dropout(rate=0.5))\n",
    "model.add(Dense(43, activation='softmax'))\n"
   ]
  },
  {
   "cell_type": "code",
   "execution_count": 14,
   "metadata": {},
   "outputs": [],
   "source": [
    "# step-6 compiling  the CNN\n",
    "model.compile(loss='categorical_crossentropy', optimizer='adam', metrics=['accuracy'])"
   ]
  },
  {
   "cell_type": "markdown",
   "metadata": {},
   "source": [
    "# Train the model"
   ]
  },
  {
   "cell_type": "code",
   "execution_count": 15,
   "metadata": {},
   "outputs": [
    {
     "name": "stdout",
     "output_type": "stream",
     "text": [
      "Train on 31415 samples, validate on 7854 samples\n",
      "Epoch 1/10\n",
      "31415/31415 [==============================] - 1169s 37ms/step - loss: 1.7943 - accuracy: 0.5653 - val_loss: 0.2430 - val_accuracy: 0.9486\n",
      "Epoch 2/10\n",
      "31415/31415 [==============================] - 1225s 39ms/step - loss: 0.4718 - accuracy: 0.8639 - val_loss: 0.1322 - val_accuracy: 0.9663\n",
      "Epoch 3/10\n",
      "31415/31415 [==============================] - 1112s 35ms/step - loss: 0.3040 - accuracy: 0.9104 - val_loss: 0.0777 - val_accuracy: 0.9796\n",
      "Epoch 4/10\n",
      "31415/31415 [==============================] - 1042s 33ms/step - loss: 0.2423 - accuracy: 0.9282 - val_loss: 0.0718 - val_accuracy: 0.9850\n",
      "Epoch 5/10\n",
      "31415/31415 [==============================] - 846s 27ms/step - loss: 0.2004 - accuracy: 0.9422 - val_loss: 0.0542 - val_accuracy: 0.9864\n",
      "Epoch 6/10\n",
      "31415/31415 [==============================] - 836s 27ms/step - loss: 0.1630 - accuracy: 0.9532 - val_loss: 0.0561 - val_accuracy: 0.9845\n",
      "Epoch 7/10\n",
      "31415/31415 [==============================] - 831s 26ms/step - loss: 0.1549 - accuracy: 0.9555 - val_loss: 0.0431 - val_accuracy: 0.9912\n",
      "Epoch 8/10\n",
      "31415/31415 [==============================] - 853s 27ms/step - loss: 0.1607 - accuracy: 0.9539 - val_loss: 0.0569 - val_accuracy: 0.9864\n",
      "Epoch 9/10\n",
      "31415/31415 [==============================] - 841s 27ms/step - loss: 0.1268 - accuracy: 0.9625 - val_loss: 0.0377 - val_accuracy: 0.9916\n",
      "Epoch 10/10\n",
      "31415/31415 [==============================] - 853s 27ms/step - loss: 0.1268 - accuracy: 0.9631 - val_loss: 0.0332 - val_accuracy: 0.9922\n"
     ]
    }
   ],
   "source": [
    "epochs = 10\n",
    "history = model.fit(x_train, y_train, batch_size=64, epochs=epochs,validation_data=(x_test, y_test))\n",
    "model.save('traffic_recognition.h5')"
   ]
  },
  {
   "cell_type": "markdown",
   "metadata": {},
   "source": [
    "# Training Result Visualization"
   ]
  },
  {
   "cell_type": "code",
   "execution_count": 16,
   "metadata": {},
   "outputs": [
    {
     "data": {
      "text/plain": [
       "<matplotlib.legend.Legend at 0x2a005efadc8>"
      ]
     },
     "execution_count": 16,
     "metadata": {},
     "output_type": "execute_result"
    },
    {
     "data": {
      "image/png": "[encoded data removed]",
      "text/plain": [
       "<Figure size 432x288 with 1 Axes>"
      ]
     },
     "metadata": {
      "needs_background": "light"
     },
     "output_type": "display_data"
    },
    {
     "data": {
      "image/png": "[encoded data removed]",
      "text/plain": [
       "<Figure size 432x288 with 1 Axes>"
      ]
     },
     "metadata": {
      "needs_background": "light"
     },
     "output_type": "display_data"
    }
   ],
   "source": [
    "plt.figure(0)\n",
    "plt.plot(history.history['accuracy'], label='training accuracy')\n",
    "plt.plot(history.history['val_accuracy'], label='val accuracy')\n",
    "plt.title('Accuracy')\n",
    "plt.xlabel('epochs')\n",
    "plt.ylabel('accuracy')\n",
    "plt.legend()\n",
    "plt.figure(1)\n",
    "plt.plot(history.history['loss'], label='training loss')\n",
    "plt.plot(history.history['val_loss'], label='val loss')\n",
    "plt.title('Loss')\n",
    "plt.xlabel('epochs')\n",
    "plt.ylabel('loss')\n",
    "plt.legend()"
   ]
  },
  {
   "cell_type": "markdown",
   "metadata": {},
   "source": [
    "# Testing the model"
   ]
  },
  {
   "cell_type": "code",
   "execution_count": 17,
   "metadata": {},
   "outputs": [],
   "source": [
    "from sklearn.metrics import accuracy_score\n",
    "import pandas as pd\n",
    "y_test = pd.read_csv(cur_directory+'\\\\' +'Test.csv')\n",
    "labels = y_test[\"ClassId\"].values\n",
    "img_paths = y_test[\"Path\"].values\n",
    "test_data=[]\n",
    "for path in img_paths:\n",
    "  image = Image.open(cur_directory + '\\\\' + path)\n",
    "  image = image.resize((64,64))\n",
    "  test_data.append(np.array(image))\n",
    "test_data = np.array(test_data)\n",
    "pred = model.predict_classes(test_data)\n"
   ]
  },
  {
   "cell_type": "markdown",
   "metadata": {},
   "source": [
    "# Accuracy with the test data"
   ]
  },
  {
   "cell_type": "code",
   "execution_count": 18,
   "metadata": {},
   "outputs": [
    {
     "data": {
      "text/plain": [
       "0.9665083135391924"
      ]
     },
     "execution_count": 18,
     "metadata": {},
     "output_type": "execute_result"
    }
   ],
   "source": [
    "from sklearn.metrics import accuracy_score\n",
    "accuracy_score(labels, pred)"
   ]
  },
  {
   "cell_type": "markdown",
   "metadata": {},
   "source": [
    "# load the trained model to classify sign"
   ]
  },
  {
   "cell_type": "code",
   "execution_count": 19,
   "metadata": {},
   "outputs": [],
   "source": [
    "import tkinter as tk\n",
    "from tkinter import filedialog\n",
    "from tkinter import *\n",
    "from PIL import ImageTk, Image\n",
    "import numpy\n",
    "from keras.models import load_model\n",
    "model = load_model('traffic_recognition.h5')"
   ]
  },
  {
   "cell_type": "markdown",
   "metadata": {},
   "source": [
    "# dictionary to label all traffic signs class"
   ]
  },
  {
   "cell_type": "code",
   "execution_count": 20,
   "metadata": {},
   "outputs": [],
   "source": [
    "classes = { 1:'Speed limit (20km/h)',\n",
    "    2:'Speed limit (30km/h)',\n",
    "    3:'Speed limit (50km/h)',\n",
    "    4:'Speed limit (60km/h)',\n",
    "    5:'Speed limit (70km/h)',\n",
    "    6:'Speed limit (80km/h)',\n",
    "    7:'End of speed limit (80km/h)',\n",
    "    8:'Speed limit (100km/h)',\n",
    "    9:'Speed limit (120km/h)',\n",
    "    10:'No passing',\n",
    "    11:'No passing veh over 3.5 tons',\n",
    "    12:'Right-of-way at intersection',\n",
    "    13:'Priority road',\n",
    "    14:'Yield',\n",
    "    15:'Stop',\n",
    "    16:'No vehicles',\n",
    "    17:'Veh > 3.5 tons prohibited',\n",
    "    18:'No entry',\n",
    "    19:'General caution',\n",
    "    20:'Dangerous curve left',\n",
    "    21:'Dangerous curve right',\n",
    "    22:'Double curve',\n",
    "    23:'Bumpy road',\n",
    "    24:'Slippery road',\n",
    "    25:'Road narrows on the right',\n",
    "    26:'Road work',\n",
    "    27:'Traffic signals',\n",
    "    28:'Pedestrians',\n",
    "    29:'Children crossing',\n",
    "    30:'Bicycles crossing',\n",
    "    31:'Beware of ice/snow',\n",
    "    32:'Wild animals crossing',\n",
    "    33:'End speed + passing limits',\n",
    "    34:'Turn right ahead',\n",
    "    35:'Turn left ahead',\n",
    "    36:'Ahead only',\n",
    "    37:'Go straight or right',\n",
    "    38:'Go straight or left',\n",
    "    39:'Keep right',\n",
    "    40:'Keep left',\n",
    "    41:'Roundabout mandatory',\n",
    "    42:'End of no passing',\n",
    "    43:'End no passing veh > 3.5 tons'}"
   ]
  },
  {
   "cell_type": "code",
   "execution_count": 21,
   "metadata": {},
   "outputs": [],
   "source": [
    "from matplotlib import image\n",
    "from matplotlib import pyplot\n",
    "\n",
    "def classify(file_path):\n",
    "  image = Image.open(file_path)\n",
    "  image = image.resize((64,64))\n",
    "  pyplot.imshow(image)\n",
    "  pyplot.show()\n",
    "  #image.show()\n",
    "  image = numpy.expand_dims(image, axis=0)\n",
    "  image = numpy.array(image)\n",
    "  pred = model.predict_classes([image])[0]\n",
    "  sign = classes[pred+1]\n",
    "  print('Prediction:' + sign)\n",
    "  result.configure(text=sign)"
   ]
  },
  {
   "cell_type": "code",
   "execution_count": 22,
   "metadata": {},
   "outputs": [],
   "source": [
    "def show_classify_btn(file_path):\n",
    "  classify_b=Button(top,text=\"Classify Image\",command=lambda: classify(file_path),padx=10,pady=5)\n",
    "  classify_b.configure(bg='#364156', fg='white',font=('arial',10,'bold'))\n",
    "  classify_b.place(relx=0.79,rely=0.46)"
   ]
  },
  {
   "cell_type": "code",
   "execution_count": 23,
   "metadata": {},
   "outputs": [],
   "source": [
    "def upload_image():\n",
    "    try:\n",
    "        file_path=filedialog.askopenfilename()\n",
    "        uploaded=Image.open(file_path)\n",
    "        uploaded.thumbnail(((top.winfo_width()/2.25),(top.winfo_height()/2.25)))\n",
    "        im=ImageTk.PhotoImage(uploaded)\n",
    "        sign_image.configure(image=im)\n",
    "        sign_image.image=im\n",
    "        result.configure(text='')\n",
    "        show_classify_btn(file_path)\n",
    "    except:\n",
    "        pass"
   ]
  },
  {
   "cell_type": "code",
   "execution_count": 30,
   "metadata": {},
   "outputs": [
    {
     "data": {
      "image/png": "[encoded data removed]",
      "text/plain": [
       "<Figure size 432x288 with 1 Axes>"
      ]
     },
     "metadata": {
      "needs_background": "light"
     },
     "output_type": "display_data"
    },
    {
     "name": "stdout",
     "output_type": "stream",
     "text": [
      "Prediction:Speed limit (120km/h)\n"
     ]
    },
    {
     "data": {
      "image/png": "[encoded data removed]",
      "text/plain": [
       "<Figure size 432x288 with 1 Axes>"
      ]
     },
     "metadata": {
      "needs_background": "light"
     },
     "output_type": "display_data"
    },
    {
     "name": "stdout",
     "output_type": "stream",
     "text": [
      "Prediction:Speed limit (20km/h)\n"
     ]
    }
   ],
   "source": [
    "if __name__==\"__main__\":\n",
    "  #initialise GUI\n",
    "  top=tk.Tk()\n",
    "  top.geometry('800x800')\n",
    "  top.title('Traffic sign recognition')\n",
    "  top.configure(bg='LightCyan2')\n",
    "  heading = Label(top, text=\"Traffic sign recognition\",pady=20, font=('arial',40,'bold'))\n",
    "  heading.configure(background='LightCyan2',fg='black')\n",
    "  heading.pack()\n",
    "  result=Label(top, font=('arial',15,'bold'))\n",
    "  result.configure(fg='#011638',bg='LightCyan2')\n",
    "  sign_image = Label(top)\n",
    "  upload=Button(top,text=\"Upload an image\",command=upload_image,padx=10,pady=5)\n",
    "  upload.configure(background='#364156', fg='white',font=('arial',10,'bold'))\n",
    "  upload.pack(side=BOTTOM,pady=50)\n",
    "  sign_image.pack(side=BOTTOM,expand=True)\n",
    "  result.pack(side=BOTTOM,expand=True)\n",
    "  top.mainloop()\n"
   ]
  },
  {
   "cell_type": "code",
   "execution_count": null,
   "metadata": {},
   "outputs": [],
   "source": []
  }
 ],
 "metadata": {
  "kernelspec": {
   "display_name": "Python 3",
   "language": "python",
   "name": "python3"
  },
  "language_info": {
   "codemirror_mode": {
    "name": "ipython",
    "version": 3
   },
   "file_extension": ".py",
   "mimetype": "text/x-python",
   "name": "python",
   "nbconvert_exporter": "python",
   "pygments_lexer": "ipython3",
   "version": "3.7.7"
  }
 },
 "nbformat": 4,
 "nbformat_minor": 4
}
